{
 "cells": [
  {
   "cell_type": "code",
   "execution_count": 2,
   "id": "e287c4c7",
   "metadata": {},
   "outputs": [],
   "source": [
    "import pandas as pd"
   ]
  },
  {
   "cell_type": "code",
   "execution_count": 3,
   "id": "014dafc5",
   "metadata": {},
   "outputs": [],
   "source": [
    "data=pd.read_csv(\"insurance_pre.csv\")"
   ]
  },
  {
   "cell_type": "code",
   "execution_count": 4,
   "id": "c58f8286",
   "metadata": {},
   "outputs": [],
   "source": [
    "data=pd.get_dummies(data,drop_first=True)"
   ]
  },
  {
   "cell_type": "code",
   "execution_count": 5,
   "id": "278a241f",
   "metadata": {},
   "outputs": [
    {
     "data": {
      "text/html": [
       "<div>\n",
       "<style scoped>\n",
       "    .dataframe tbody tr th:only-of-type {\n",
       "        vertical-align: middle;\n",
       "    }\n",
       "\n",
       "    .dataframe tbody tr th {\n",
       "        vertical-align: top;\n",
       "    }\n",
       "\n",
       "    .dataframe thead th {\n",
       "        text-align: right;\n",
       "    }\n",
       "</style>\n",
       "<table border=\"1\" class=\"dataframe\">\n",
       "  <thead>\n",
       "    <tr style=\"text-align: right;\">\n",
       "      <th></th>\n",
       "      <th>age</th>\n",
       "      <th>bmi</th>\n",
       "      <th>children</th>\n",
       "      <th>charges</th>\n",
       "      <th>sex_male</th>\n",
       "      <th>smoker_yes</th>\n",
       "    </tr>\n",
       "  </thead>\n",
       "  <tbody>\n",
       "    <tr>\n",
       "      <th>0</th>\n",
       "      <td>19</td>\n",
       "      <td>27.900</td>\n",
       "      <td>0</td>\n",
       "      <td>16884.92400</td>\n",
       "      <td>0</td>\n",
       "      <td>1</td>\n",
       "    </tr>\n",
       "    <tr>\n",
       "      <th>1</th>\n",
       "      <td>18</td>\n",
       "      <td>33.770</td>\n",
       "      <td>1</td>\n",
       "      <td>1725.55230</td>\n",
       "      <td>1</td>\n",
       "      <td>0</td>\n",
       "    </tr>\n",
       "    <tr>\n",
       "      <th>2</th>\n",
       "      <td>28</td>\n",
       "      <td>33.000</td>\n",
       "      <td>3</td>\n",
       "      <td>4449.46200</td>\n",
       "      <td>1</td>\n",
       "      <td>0</td>\n",
       "    </tr>\n",
       "    <tr>\n",
       "      <th>3</th>\n",
       "      <td>33</td>\n",
       "      <td>22.705</td>\n",
       "      <td>0</td>\n",
       "      <td>21984.47061</td>\n",
       "      <td>1</td>\n",
       "      <td>0</td>\n",
       "    </tr>\n",
       "    <tr>\n",
       "      <th>4</th>\n",
       "      <td>32</td>\n",
       "      <td>28.880</td>\n",
       "      <td>0</td>\n",
       "      <td>3866.85520</td>\n",
       "      <td>1</td>\n",
       "      <td>0</td>\n",
       "    </tr>\n",
       "    <tr>\n",
       "      <th>...</th>\n",
       "      <td>...</td>\n",
       "      <td>...</td>\n",
       "      <td>...</td>\n",
       "      <td>...</td>\n",
       "      <td>...</td>\n",
       "      <td>...</td>\n",
       "    </tr>\n",
       "    <tr>\n",
       "      <th>1333</th>\n",
       "      <td>50</td>\n",
       "      <td>30.970</td>\n",
       "      <td>3</td>\n",
       "      <td>10600.54830</td>\n",
       "      <td>1</td>\n",
       "      <td>0</td>\n",
       "    </tr>\n",
       "    <tr>\n",
       "      <th>1334</th>\n",
       "      <td>18</td>\n",
       "      <td>31.920</td>\n",
       "      <td>0</td>\n",
       "      <td>2205.98080</td>\n",
       "      <td>0</td>\n",
       "      <td>0</td>\n",
       "    </tr>\n",
       "    <tr>\n",
       "      <th>1335</th>\n",
       "      <td>18</td>\n",
       "      <td>36.850</td>\n",
       "      <td>0</td>\n",
       "      <td>1629.83350</td>\n",
       "      <td>0</td>\n",
       "      <td>0</td>\n",
       "    </tr>\n",
       "    <tr>\n",
       "      <th>1336</th>\n",
       "      <td>21</td>\n",
       "      <td>25.800</td>\n",
       "      <td>0</td>\n",
       "      <td>2007.94500</td>\n",
       "      <td>0</td>\n",
       "      <td>0</td>\n",
       "    </tr>\n",
       "    <tr>\n",
       "      <th>1337</th>\n",
       "      <td>61</td>\n",
       "      <td>29.070</td>\n",
       "      <td>0</td>\n",
       "      <td>29141.36030</td>\n",
       "      <td>0</td>\n",
       "      <td>1</td>\n",
       "    </tr>\n",
       "  </tbody>\n",
       "</table>\n",
       "<p>1338 rows × 6 columns</p>\n",
       "</div>"
      ],
      "text/plain": [
       "      age     bmi  children      charges  sex_male  smoker_yes\n",
       "0      19  27.900         0  16884.92400         0           1\n",
       "1      18  33.770         1   1725.55230         1           0\n",
       "2      28  33.000         3   4449.46200         1           0\n",
       "3      33  22.705         0  21984.47061         1           0\n",
       "4      32  28.880         0   3866.85520         1           0\n",
       "...   ...     ...       ...          ...       ...         ...\n",
       "1333   50  30.970         3  10600.54830         1           0\n",
       "1334   18  31.920         0   2205.98080         0           0\n",
       "1335   18  36.850         0   1629.83350         0           0\n",
       "1336   21  25.800         0   2007.94500         0           0\n",
       "1337   61  29.070         0  29141.36030         0           1\n",
       "\n",
       "[1338 rows x 6 columns]"
      ]
     },
     "execution_count": 5,
     "metadata": {},
     "output_type": "execute_result"
    }
   ],
   "source": [
    "data"
   ]
  },
  {
   "cell_type": "code",
   "execution_count": 6,
   "id": "e7a946cc",
   "metadata": {},
   "outputs": [
    {
     "data": {
      "text/plain": [
       "Index(['age', 'bmi', 'children', 'charges', 'sex_male', 'smoker_yes'], dtype='object')"
      ]
     },
     "execution_count": 6,
     "metadata": {},
     "output_type": "execute_result"
    }
   ],
   "source": [
    "data.columns"
   ]
  },
  {
   "cell_type": "code",
   "execution_count": 7,
   "id": "f0e9f605",
   "metadata": {},
   "outputs": [],
   "source": [
    "independent=data[['age', 'bmi', 'children', 'sex_male', 'smoker_yes']]"
   ]
  },
  {
   "cell_type": "code",
   "execution_count": 8,
   "id": "cb0e9326",
   "metadata": {},
   "outputs": [],
   "source": [
    "dependent=data[['charges']]"
   ]
  },
  {
   "cell_type": "code",
   "execution_count": 9,
   "id": "97530793",
   "metadata": {},
   "outputs": [],
   "source": [
    "from sklearn.model_selection import train_test_split\n",
    "x_train,x_test,y_train,y_test=train_test_split(independent,dependent,test_size=0.30,random_state=0)"
   ]
  },
  {
   "cell_type": "code",
   "execution_count": 10,
   "id": "826c6603",
   "metadata": {},
   "outputs": [
    {
     "name": "stdout",
     "output_type": "stream",
     "text": [
      "Fitting 5 folds for each of 6 candidates, totalling 30 fits\n"
     ]
    },
    {
     "name": "stderr",
     "output_type": "stream",
     "text": [
      "C:\\Users\\venka\\anaconda3\\lib\\site-packages\\sklearn\\utils\\validation.py:993: DataConversionWarning: A column-vector y was passed when a 1d array was expected. Please change the shape of y to (n_samples, ), for example using ravel().\n",
      "  y = column_or_1d(y, warn=True)\n"
     ]
    },
    {
     "data": {
      "text/plain": [
       "GridSearchCV(estimator=AdaBoostRegressor(), n_jobs=-1,\n",
       "             param_grid={'loss': ['linear', 'square', 'exponential'],\n",
       "                         'n_estimators': [10, 100]},\n",
       "             verbose=3)"
      ]
     },
     "execution_count": 10,
     "metadata": {},
     "output_type": "execute_result"
    }
   ],
   "source": [
    "from sklearn.model_selection import GridSearchCV\n",
    "from sklearn.ensemble import AdaBoostRegressor\n",
    "regressor=AdaBoostRegressor(n_estimators=3,loss=\"linear\")\n",
    "\n",
    "grid_params={\"loss\":['linear','square','exponential'],\"n_estimators\":[10,100]}\n",
    "grid=GridSearchCV(AdaBoostRegressor(),grid_params,refit=True,verbose=3,n_jobs=-1)\n",
    "grid.fit(x_train,y_train)"
   ]
  },
  {
   "cell_type": "code",
   "execution_count": 11,
   "id": "8cdf032d",
   "metadata": {},
   "outputs": [],
   "source": [
    "results=grid.cv_results_"
   ]
  },
  {
   "cell_type": "code",
   "execution_count": 12,
   "id": "c78534ab",
   "metadata": {},
   "outputs": [
    {
     "data": {
      "text/plain": [
       "{'mean_fit_time': array([0.16873837, 0.10311871, 0.12499166, 0.78119364, 0.10936747,\n",
       "        0.73432293]),\n",
       " 'std_fit_time': array([0.0673098 , 0.02338431, 0.00988242, 0.0942615 , 0.01976318,\n",
       "        0.05676482]),\n",
       " 'mean_score_time': array([0.02187285, 0.02499804, 0.00937433, 0.0593709 , 0.018749  ,\n",
       "        0.03749814]),\n",
       " 'std_score_time': array([0.02119253, 0.01593339, 0.00765411, 0.01822033, 0.00624847,\n",
       "        0.01249902]),\n",
       " 'param_loss': masked_array(data=['linear', 'linear', 'square', 'square', 'exponential',\n",
       "                    'exponential'],\n",
       "              mask=[False, False, False, False, False, False],\n",
       "        fill_value='?',\n",
       "             dtype=object),\n",
       " 'param_n_estimators': masked_array(data=[10, 100, 10, 100, 10, 100],\n",
       "              mask=[False, False, False, False, False, False],\n",
       "        fill_value='?',\n",
       "             dtype=object),\n",
       " 'params': [{'loss': 'linear', 'n_estimators': 10},\n",
       "  {'loss': 'linear', 'n_estimators': 100},\n",
       "  {'loss': 'square', 'n_estimators': 10},\n",
       "  {'loss': 'square', 'n_estimators': 100},\n",
       "  {'loss': 'exponential', 'n_estimators': 10},\n",
       "  {'loss': 'exponential', 'n_estimators': 100}],\n",
       " 'split0_test_score': array([0.81936574, 0.81126156, 0.62640474, 0.28038676, 0.78776171,\n",
       "        0.38315197]),\n",
       " 'split1_test_score': array([0.76956159, 0.78301134, 0.54857614, 0.37553059, 0.73860891,\n",
       "        0.45286476]),\n",
       " 'split2_test_score': array([0.78805287, 0.81097163, 0.6829857 , 0.5009309 , 0.78386946,\n",
       "        0.51885473]),\n",
       " 'split3_test_score': array([0.80523412, 0.79198273, 0.62870442, 0.33612012, 0.7714508 ,\n",
       "        0.44202338]),\n",
       " 'split4_test_score': array([0.79117366, 0.78755323, 0.72887229, 0.55205705, 0.78013069,\n",
       "        0.61606761]),\n",
       " 'mean_test_score': array([0.7946776 , 0.7969561 , 0.64310866, 0.40900509, 0.77236431,\n",
       "        0.48259249]),\n",
       " 'std_test_score': array([0.01678048, 0.01190534, 0.06061102, 0.10187213, 0.0177202 ,\n",
       "        0.0794337 ]),\n",
       " 'rank_test_score': array([2, 1, 4, 6, 3, 5])}"
      ]
     },
     "execution_count": 12,
     "metadata": {},
     "output_type": "execute_result"
    }
   ],
   "source": [
    "results"
   ]
  },
  {
   "cell_type": "code",
   "execution_count": 13,
   "id": "7b901fa2",
   "metadata": {},
   "outputs": [
    {
     "name": "stdout",
     "output_type": "stream",
     "text": [
      "The RScore value for Tuning Parameter {'loss': 'linear', 'n_estimators': 100} :\n"
     ]
    }
   ],
   "source": [
    "print(\"The RScore value for Tuning Parameter {} :\".format(grid.best_params_))"
   ]
  },
  {
   "cell_type": "code",
   "execution_count": 14,
   "id": "e78fd1bb",
   "metadata": {},
   "outputs": [],
   "source": [
    "ypred=grid.predict(x_test)"
   ]
  },
  {
   "cell_type": "code",
   "execution_count": 15,
   "id": "f6f23dce",
   "metadata": {},
   "outputs": [],
   "source": [
    "from sklearn.metrics import r2_score\n",
    "rscore=r2_score(y_test,ypred)"
   ]
  },
  {
   "cell_type": "code",
   "execution_count": 16,
   "id": "ea43cca5",
   "metadata": {},
   "outputs": [
    {
     "data": {
      "text/plain": [
       "0.847562494519012"
      ]
     },
     "execution_count": 16,
     "metadata": {},
     "output_type": "execute_result"
    }
   ],
   "source": [
    "rscore"
   ]
  },
  {
   "cell_type": "code",
   "execution_count": 22,
   "id": "0b846df0",
   "metadata": {},
   "outputs": [],
   "source": [
    "table=pd.DataFrame.from_dict(results)"
   ]
  },
  {
   "cell_type": "code",
   "execution_count": 23,
   "id": "beed315b",
   "metadata": {},
   "outputs": [
    {
     "data": {
      "text/html": [
       "<div>\n",
       "<style scoped>\n",
       "    .dataframe tbody tr th:only-of-type {\n",
       "        vertical-align: middle;\n",
       "    }\n",
       "\n",
       "    .dataframe tbody tr th {\n",
       "        vertical-align: top;\n",
       "    }\n",
       "\n",
       "    .dataframe thead th {\n",
       "        text-align: right;\n",
       "    }\n",
       "</style>\n",
       "<table border=\"1\" class=\"dataframe\">\n",
       "  <thead>\n",
       "    <tr style=\"text-align: right;\">\n",
       "      <th></th>\n",
       "      <th>mean_fit_time</th>\n",
       "      <th>std_fit_time</th>\n",
       "      <th>mean_score_time</th>\n",
       "      <th>std_score_time</th>\n",
       "      <th>param_loss</th>\n",
       "      <th>param_n_estimators</th>\n",
       "      <th>params</th>\n",
       "      <th>split0_test_score</th>\n",
       "      <th>split1_test_score</th>\n",
       "      <th>split2_test_score</th>\n",
       "      <th>split3_test_score</th>\n",
       "      <th>split4_test_score</th>\n",
       "      <th>mean_test_score</th>\n",
       "      <th>std_test_score</th>\n",
       "      <th>rank_test_score</th>\n",
       "    </tr>\n",
       "  </thead>\n",
       "  <tbody>\n",
       "    <tr>\n",
       "      <th>0</th>\n",
       "      <td>0.168738</td>\n",
       "      <td>0.067310</td>\n",
       "      <td>0.021873</td>\n",
       "      <td>0.021193</td>\n",
       "      <td>linear</td>\n",
       "      <td>10</td>\n",
       "      <td>{'loss': 'linear', 'n_estimators': 10}</td>\n",
       "      <td>0.819366</td>\n",
       "      <td>0.769562</td>\n",
       "      <td>0.788053</td>\n",
       "      <td>0.805234</td>\n",
       "      <td>0.791174</td>\n",
       "      <td>0.794678</td>\n",
       "      <td>0.016780</td>\n",
       "      <td>2</td>\n",
       "    </tr>\n",
       "    <tr>\n",
       "      <th>1</th>\n",
       "      <td>0.103119</td>\n",
       "      <td>0.023384</td>\n",
       "      <td>0.024998</td>\n",
       "      <td>0.015933</td>\n",
       "      <td>linear</td>\n",
       "      <td>100</td>\n",
       "      <td>{'loss': 'linear', 'n_estimators': 100}</td>\n",
       "      <td>0.811262</td>\n",
       "      <td>0.783011</td>\n",
       "      <td>0.810972</td>\n",
       "      <td>0.791983</td>\n",
       "      <td>0.787553</td>\n",
       "      <td>0.796956</td>\n",
       "      <td>0.011905</td>\n",
       "      <td>1</td>\n",
       "    </tr>\n",
       "    <tr>\n",
       "      <th>2</th>\n",
       "      <td>0.124992</td>\n",
       "      <td>0.009882</td>\n",
       "      <td>0.009374</td>\n",
       "      <td>0.007654</td>\n",
       "      <td>square</td>\n",
       "      <td>10</td>\n",
       "      <td>{'loss': 'square', 'n_estimators': 10}</td>\n",
       "      <td>0.626405</td>\n",
       "      <td>0.548576</td>\n",
       "      <td>0.682986</td>\n",
       "      <td>0.628704</td>\n",
       "      <td>0.728872</td>\n",
       "      <td>0.643109</td>\n",
       "      <td>0.060611</td>\n",
       "      <td>4</td>\n",
       "    </tr>\n",
       "    <tr>\n",
       "      <th>3</th>\n",
       "      <td>0.781194</td>\n",
       "      <td>0.094261</td>\n",
       "      <td>0.059371</td>\n",
       "      <td>0.018220</td>\n",
       "      <td>square</td>\n",
       "      <td>100</td>\n",
       "      <td>{'loss': 'square', 'n_estimators': 100}</td>\n",
       "      <td>0.280387</td>\n",
       "      <td>0.375531</td>\n",
       "      <td>0.500931</td>\n",
       "      <td>0.336120</td>\n",
       "      <td>0.552057</td>\n",
       "      <td>0.409005</td>\n",
       "      <td>0.101872</td>\n",
       "      <td>6</td>\n",
       "    </tr>\n",
       "    <tr>\n",
       "      <th>4</th>\n",
       "      <td>0.109367</td>\n",
       "      <td>0.019763</td>\n",
       "      <td>0.018749</td>\n",
       "      <td>0.006248</td>\n",
       "      <td>exponential</td>\n",
       "      <td>10</td>\n",
       "      <td>{'loss': 'exponential', 'n_estimators': 10}</td>\n",
       "      <td>0.787762</td>\n",
       "      <td>0.738609</td>\n",
       "      <td>0.783869</td>\n",
       "      <td>0.771451</td>\n",
       "      <td>0.780131</td>\n",
       "      <td>0.772364</td>\n",
       "      <td>0.017720</td>\n",
       "      <td>3</td>\n",
       "    </tr>\n",
       "    <tr>\n",
       "      <th>5</th>\n",
       "      <td>0.734323</td>\n",
       "      <td>0.056765</td>\n",
       "      <td>0.037498</td>\n",
       "      <td>0.012499</td>\n",
       "      <td>exponential</td>\n",
       "      <td>100</td>\n",
       "      <td>{'loss': 'exponential', 'n_estimators': 100}</td>\n",
       "      <td>0.383152</td>\n",
       "      <td>0.452865</td>\n",
       "      <td>0.518855</td>\n",
       "      <td>0.442023</td>\n",
       "      <td>0.616068</td>\n",
       "      <td>0.482592</td>\n",
       "      <td>0.079434</td>\n",
       "      <td>5</td>\n",
       "    </tr>\n",
       "  </tbody>\n",
       "</table>\n",
       "</div>"
      ],
      "text/plain": [
       "   mean_fit_time  std_fit_time  mean_score_time  std_score_time   param_loss  \\\n",
       "0       0.168738      0.067310         0.021873        0.021193       linear   \n",
       "1       0.103119      0.023384         0.024998        0.015933       linear   \n",
       "2       0.124992      0.009882         0.009374        0.007654       square   \n",
       "3       0.781194      0.094261         0.059371        0.018220       square   \n",
       "4       0.109367      0.019763         0.018749        0.006248  exponential   \n",
       "5       0.734323      0.056765         0.037498        0.012499  exponential   \n",
       "\n",
       "  param_n_estimators                                        params  \\\n",
       "0                 10        {'loss': 'linear', 'n_estimators': 10}   \n",
       "1                100       {'loss': 'linear', 'n_estimators': 100}   \n",
       "2                 10        {'loss': 'square', 'n_estimators': 10}   \n",
       "3                100       {'loss': 'square', 'n_estimators': 100}   \n",
       "4                 10   {'loss': 'exponential', 'n_estimators': 10}   \n",
       "5                100  {'loss': 'exponential', 'n_estimators': 100}   \n",
       "\n",
       "   split0_test_score  split1_test_score  split2_test_score  split3_test_score  \\\n",
       "0           0.819366           0.769562           0.788053           0.805234   \n",
       "1           0.811262           0.783011           0.810972           0.791983   \n",
       "2           0.626405           0.548576           0.682986           0.628704   \n",
       "3           0.280387           0.375531           0.500931           0.336120   \n",
       "4           0.787762           0.738609           0.783869           0.771451   \n",
       "5           0.383152           0.452865           0.518855           0.442023   \n",
       "\n",
       "   split4_test_score  mean_test_score  std_test_score  rank_test_score  \n",
       "0           0.791174         0.794678        0.016780                2  \n",
       "1           0.787553         0.796956        0.011905                1  \n",
       "2           0.728872         0.643109        0.060611                4  \n",
       "3           0.552057         0.409005        0.101872                6  \n",
       "4           0.780131         0.772364        0.017720                3  \n",
       "5           0.616068         0.482592        0.079434                5  "
      ]
     },
     "execution_count": 23,
     "metadata": {},
     "output_type": "execute_result"
    }
   ],
   "source": [
    "table"
   ]
  },
  {
   "cell_type": "code",
   "execution_count": 25,
   "id": "756ce989",
   "metadata": {},
   "outputs": [
    {
     "name": "stdout",
     "output_type": "stream",
     "text": [
      "Age : 33\n",
      "BMI : 31\n",
      "Children: 2\n",
      "Sex Male 0 or 1 : 1\n",
      "Smoker yes 0 or 1 : 1\n"
     ]
    }
   ],
   "source": [
    "age_input=float(input(\"Age : \"))\n",
    "bmi_input=float(input(\"BMI : \"))\n",
    "child_input=int(input(\"Children: \"))\n",
    "sex_input=int(input(\"Sex Male 0 or 1 : \"))\n",
    "smoker_s_input=int(input(\"Smoker yes 0 or 1 : \"))"
   ]
  },
  {
   "cell_type": "code",
   "execution_count": 26,
   "id": "e5394b43",
   "metadata": {},
   "outputs": [
    {
     "name": "stdout",
     "output_type": "stream",
     "text": [
      "Future Prediction is: [40843.49773043]\n"
     ]
    },
    {
     "name": "stderr",
     "output_type": "stream",
     "text": [
      "C:\\Users\\venka\\anaconda3\\lib\\site-packages\\sklearn\\base.py:450: UserWarning: X does not have valid feature names, but AdaBoostRegressor was fitted with feature names\n",
      "  warnings.warn(\n"
     ]
    }
   ],
   "source": [
    "future_predict=grid.predict([[age_input,bmi_input,child_input,sex_input,smoker_s_input]])\n",
    "print(\"Future Prediction is: {}\".format(future_predict))"
   ]
  },
  {
   "cell_type": "code",
   "execution_count": null,
   "id": "9e216d95",
   "metadata": {},
   "outputs": [],
   "source": []
  }
 ],
 "metadata": {
  "kernelspec": {
   "display_name": "Python 3 (ipykernel)",
   "language": "python",
   "name": "python3"
  },
  "language_info": {
   "codemirror_mode": {
    "name": "ipython",
    "version": 3
   },
   "file_extension": ".py",
   "mimetype": "text/x-python",
   "name": "python",
   "nbconvert_exporter": "python",
   "pygments_lexer": "ipython3",
   "version": "3.9.13"
  }
 },
 "nbformat": 4,
 "nbformat_minor": 5
}
