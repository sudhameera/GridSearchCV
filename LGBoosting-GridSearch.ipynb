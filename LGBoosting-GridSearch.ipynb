{
 "cells": [
  {
   "cell_type": "code",
   "execution_count": 1,
   "id": "ac0465b9",
   "metadata": {},
   "outputs": [],
   "source": [
    "import pandas as pd"
   ]
  },
  {
   "cell_type": "code",
   "execution_count": 2,
   "id": "4d16d601",
   "metadata": {},
   "outputs": [
    {
     "name": "stdout",
     "output_type": "stream",
     "text": [
      "Requirement already satisfied: lightgbm in c:\\users\\venka\\anaconda3\\lib\\site-packages (4.0.0)\n",
      "Requirement already satisfied: numpy in c:\\users\\venka\\anaconda3\\lib\\site-packages (from lightgbm) (1.21.5)\n",
      "Requirement already satisfied: scipy in c:\\users\\venka\\anaconda3\\lib\\site-packages (from lightgbm) (1.9.1)\n"
     ]
    }
   ],
   "source": [
    "!pip install lightgbm"
   ]
  },
  {
   "cell_type": "code",
   "execution_count": 3,
   "id": "6230808f",
   "metadata": {},
   "outputs": [],
   "source": [
    "import lightgbm"
   ]
  },
  {
   "cell_type": "code",
   "execution_count": 4,
   "id": "a9030703",
   "metadata": {},
   "outputs": [],
   "source": [
    "data=pd.read_csv(\"insurance_pre.csv\")"
   ]
  },
  {
   "cell_type": "code",
   "execution_count": null,
   "id": "5a38b8ba",
   "metadata": {},
   "outputs": [],
   "source": []
  },
  {
   "cell_type": "code",
   "execution_count": 5,
   "id": "04c2641a",
   "metadata": {},
   "outputs": [],
   "source": [
    "data=pd.get_dummies(data,drop_first=True)"
   ]
  },
  {
   "cell_type": "code",
   "execution_count": 6,
   "id": "de3008db",
   "metadata": {},
   "outputs": [
    {
     "data": {
      "text/html": [
       "<div>\n",
       "<style scoped>\n",
       "    .dataframe tbody tr th:only-of-type {\n",
       "        vertical-align: middle;\n",
       "    }\n",
       "\n",
       "    .dataframe tbody tr th {\n",
       "        vertical-align: top;\n",
       "    }\n",
       "\n",
       "    .dataframe thead th {\n",
       "        text-align: right;\n",
       "    }\n",
       "</style>\n",
       "<table border=\"1\" class=\"dataframe\">\n",
       "  <thead>\n",
       "    <tr style=\"text-align: right;\">\n",
       "      <th></th>\n",
       "      <th>age</th>\n",
       "      <th>bmi</th>\n",
       "      <th>children</th>\n",
       "      <th>charges</th>\n",
       "      <th>sex_male</th>\n",
       "      <th>smoker_yes</th>\n",
       "    </tr>\n",
       "  </thead>\n",
       "  <tbody>\n",
       "    <tr>\n",
       "      <th>0</th>\n",
       "      <td>19</td>\n",
       "      <td>27.900</td>\n",
       "      <td>0</td>\n",
       "      <td>16884.92400</td>\n",
       "      <td>0</td>\n",
       "      <td>1</td>\n",
       "    </tr>\n",
       "    <tr>\n",
       "      <th>1</th>\n",
       "      <td>18</td>\n",
       "      <td>33.770</td>\n",
       "      <td>1</td>\n",
       "      <td>1725.55230</td>\n",
       "      <td>1</td>\n",
       "      <td>0</td>\n",
       "    </tr>\n",
       "    <tr>\n",
       "      <th>2</th>\n",
       "      <td>28</td>\n",
       "      <td>33.000</td>\n",
       "      <td>3</td>\n",
       "      <td>4449.46200</td>\n",
       "      <td>1</td>\n",
       "      <td>0</td>\n",
       "    </tr>\n",
       "    <tr>\n",
       "      <th>3</th>\n",
       "      <td>33</td>\n",
       "      <td>22.705</td>\n",
       "      <td>0</td>\n",
       "      <td>21984.47061</td>\n",
       "      <td>1</td>\n",
       "      <td>0</td>\n",
       "    </tr>\n",
       "    <tr>\n",
       "      <th>4</th>\n",
       "      <td>32</td>\n",
       "      <td>28.880</td>\n",
       "      <td>0</td>\n",
       "      <td>3866.85520</td>\n",
       "      <td>1</td>\n",
       "      <td>0</td>\n",
       "    </tr>\n",
       "    <tr>\n",
       "      <th>...</th>\n",
       "      <td>...</td>\n",
       "      <td>...</td>\n",
       "      <td>...</td>\n",
       "      <td>...</td>\n",
       "      <td>...</td>\n",
       "      <td>...</td>\n",
       "    </tr>\n",
       "    <tr>\n",
       "      <th>1333</th>\n",
       "      <td>50</td>\n",
       "      <td>30.970</td>\n",
       "      <td>3</td>\n",
       "      <td>10600.54830</td>\n",
       "      <td>1</td>\n",
       "      <td>0</td>\n",
       "    </tr>\n",
       "    <tr>\n",
       "      <th>1334</th>\n",
       "      <td>18</td>\n",
       "      <td>31.920</td>\n",
       "      <td>0</td>\n",
       "      <td>2205.98080</td>\n",
       "      <td>0</td>\n",
       "      <td>0</td>\n",
       "    </tr>\n",
       "    <tr>\n",
       "      <th>1335</th>\n",
       "      <td>18</td>\n",
       "      <td>36.850</td>\n",
       "      <td>0</td>\n",
       "      <td>1629.83350</td>\n",
       "      <td>0</td>\n",
       "      <td>0</td>\n",
       "    </tr>\n",
       "    <tr>\n",
       "      <th>1336</th>\n",
       "      <td>21</td>\n",
       "      <td>25.800</td>\n",
       "      <td>0</td>\n",
       "      <td>2007.94500</td>\n",
       "      <td>0</td>\n",
       "      <td>0</td>\n",
       "    </tr>\n",
       "    <tr>\n",
       "      <th>1337</th>\n",
       "      <td>61</td>\n",
       "      <td>29.070</td>\n",
       "      <td>0</td>\n",
       "      <td>29141.36030</td>\n",
       "      <td>0</td>\n",
       "      <td>1</td>\n",
       "    </tr>\n",
       "  </tbody>\n",
       "</table>\n",
       "<p>1338 rows × 6 columns</p>\n",
       "</div>"
      ],
      "text/plain": [
       "      age     bmi  children      charges  sex_male  smoker_yes\n",
       "0      19  27.900         0  16884.92400         0           1\n",
       "1      18  33.770         1   1725.55230         1           0\n",
       "2      28  33.000         3   4449.46200         1           0\n",
       "3      33  22.705         0  21984.47061         1           0\n",
       "4      32  28.880         0   3866.85520         1           0\n",
       "...   ...     ...       ...          ...       ...         ...\n",
       "1333   50  30.970         3  10600.54830         1           0\n",
       "1334   18  31.920         0   2205.98080         0           0\n",
       "1335   18  36.850         0   1629.83350         0           0\n",
       "1336   21  25.800         0   2007.94500         0           0\n",
       "1337   61  29.070         0  29141.36030         0           1\n",
       "\n",
       "[1338 rows x 6 columns]"
      ]
     },
     "execution_count": 6,
     "metadata": {},
     "output_type": "execute_result"
    }
   ],
   "source": [
    "data"
   ]
  },
  {
   "cell_type": "code",
   "execution_count": 7,
   "id": "8665f3c6",
   "metadata": {},
   "outputs": [],
   "source": [
    "independent=data[['age', 'bmi', 'children', 'sex_male', 'smoker_yes']]"
   ]
  },
  {
   "cell_type": "code",
   "execution_count": 8,
   "id": "3b763a95",
   "metadata": {},
   "outputs": [],
   "source": [
    "dependent=data[['charges']]"
   ]
  },
  {
   "cell_type": "code",
   "execution_count": 9,
   "id": "29c60191",
   "metadata": {},
   "outputs": [],
   "source": [
    "from sklearn.model_selection import train_test_split\n",
    "x_train,x_test,y_train,y_test=train_test_split(independent,dependent,test_size=0.30,random_state=0)"
   ]
  },
  {
   "cell_type": "code",
   "execution_count": 11,
   "id": "e3148813",
   "metadata": {},
   "outputs": [
    {
     "name": "stdout",
     "output_type": "stream",
     "text": [
      "Fitting 5 folds for each of 6 candidates, totalling 30 fits\n",
      "[LightGBM] [Warning] Auto-choosing col-wise multi-threading, the overhead of testing was 0.094701 seconds.\n",
      "You can set `force_col_wise=true` to remove the overhead.\n",
      "[LightGBM] [Info] Total Bins 313\n",
      "[LightGBM] [Info] Number of data points in the train set: 936, number of used features: 5\n",
      "[LightGBM] [Info] Start training from score 13232.916456\n",
      "[LightGBM] [Warning] No further splits with positive gain, best gain: -inf\n",
      "[LightGBM] [Warning] No further splits with positive gain, best gain: -inf\n",
      "[LightGBM] [Warning] No further splits with positive gain, best gain: -inf\n",
      "[LightGBM] [Warning] No further splits with positive gain, best gain: -inf\n",
      "[LightGBM] [Warning] No further splits with positive gain, best gain: -inf\n",
      "[LightGBM] [Warning] No further splits with positive gain, best gain: -inf\n",
      "[LightGBM] [Warning] No further splits with positive gain, best gain: -inf\n",
      "[LightGBM] [Warning] No further splits with positive gain, best gain: -inf\n",
      "[LightGBM] [Warning] No further splits with positive gain, best gain: -inf\n",
      "[LightGBM] [Warning] No further splits with positive gain, best gain: -inf\n",
      "[LightGBM] [Warning] No further splits with positive gain, best gain: -inf\n",
      "[LightGBM] [Warning] No further splits with positive gain, best gain: -inf\n",
      "[LightGBM] [Warning] No further splits with positive gain, best gain: -inf\n",
      "[LightGBM] [Warning] No further splits with positive gain, best gain: -inf\n",
      "[LightGBM] [Warning] No further splits with positive gain, best gain: -inf\n",
      "[LightGBM] [Warning] No further splits with positive gain, best gain: -inf\n",
      "[LightGBM] [Warning] No further splits with positive gain, best gain: -inf\n",
      "[LightGBM] [Warning] No further splits with positive gain, best gain: -inf\n",
      "[LightGBM] [Warning] No further splits with positive gain, best gain: -inf\n",
      "[LightGBM] [Warning] No further splits with positive gain, best gain: -inf\n",
      "[LightGBM] [Warning] No further splits with positive gain, best gain: -inf\n",
      "[LightGBM] [Warning] No further splits with positive gain, best gain: -inf\n",
      "[LightGBM] [Warning] No further splits with positive gain, best gain: -inf\n",
      "[LightGBM] [Warning] No further splits with positive gain, best gain: -inf\n",
      "[LightGBM] [Warning] No further splits with positive gain, best gain: -inf\n",
      "[LightGBM] [Warning] No further splits with positive gain, best gain: -inf\n",
      "[LightGBM] [Warning] No further splits with positive gain, best gain: -inf\n",
      "[LightGBM] [Warning] No further splits with positive gain, best gain: -inf\n",
      "[LightGBM] [Warning] No further splits with positive gain, best gain: -inf\n",
      "[LightGBM] [Warning] No further splits with positive gain, best gain: -inf\n",
      "[LightGBM] [Warning] No further splits with positive gain, best gain: -inf\n",
      "[LightGBM] [Warning] No further splits with positive gain, best gain: -inf\n",
      "[LightGBM] [Warning] No further splits with positive gain, best gain: -inf\n",
      "[LightGBM] [Warning] No further splits with positive gain, best gain: -inf\n",
      "[LightGBM] [Warning] No further splits with positive gain, best gain: -inf\n",
      "[LightGBM] [Warning] No further splits with positive gain, best gain: -inf\n",
      "[LightGBM] [Warning] No further splits with positive gain, best gain: -inf\n",
      "[LightGBM] [Warning] No further splits with positive gain, best gain: -inf\n",
      "[LightGBM] [Warning] No further splits with positive gain, best gain: -inf\n",
      "[LightGBM] [Warning] No further splits with positive gain, best gain: -inf\n",
      "[LightGBM] [Warning] No further splits with positive gain, best gain: -inf\n",
      "[LightGBM] [Warning] No further splits with positive gain, best gain: -inf\n",
      "[LightGBM] [Warning] No further splits with positive gain, best gain: -inf\n",
      "[LightGBM] [Warning] No further splits with positive gain, best gain: -inf\n",
      "[LightGBM] [Warning] No further splits with positive gain, best gain: -inf\n",
      "[LightGBM] [Warning] No further splits with positive gain, best gain: -inf\n",
      "[LightGBM] [Warning] No further splits with positive gain, best gain: -inf\n",
      "[LightGBM] [Warning] No further splits with positive gain, best gain: -inf\n",
      "[LightGBM] [Warning] No further splits with positive gain, best gain: -inf\n"
     ]
    },
    {
     "data": {
      "text/plain": [
       "GridSearchCV(estimator=LGBMRegressor(), n_jobs=-1,\n",
       "             param_grid={'learning_rate': [0.1, 0.01], 'max_depth': [4],\n",
       "                         'n_estimators': [50, 100, 150]},\n",
       "             verbose=3)"
      ]
     },
     "execution_count": 11,
     "metadata": {},
     "output_type": "execute_result"
    }
   ],
   "source": [
    "from sklearn.model_selection import GridSearchCV\n",
    "from lightgbm import LGBMRegressor\n",
    "\n",
    "grid_param={'learning_rate': [0.1, 0.01], 'n_estimators': [50, 100, 150],\n",
    "            'max_depth': [4]}\n",
    "grid=GridSearchCV(LGBMRegressor(),grid_param, refit=True, verbose=3,n_jobs=-1)\n",
    "grid.fit(x_train,y_train)"
   ]
  },
  {
   "cell_type": "code",
   "execution_count": 12,
   "id": "bcbcbc65",
   "metadata": {},
   "outputs": [
    {
     "data": {
      "text/plain": [
       "{'mean_fit_time': array([26.85470343, 61.15775476, 86.47102432, 39.93273058, 74.82093897,\n",
       "        99.7301137 ]),\n",
       " 'std_fit_time': array([0.96187909, 3.97668941, 3.39399818, 0.26024262, 8.02206734,\n",
       "        7.71186654]),\n",
       " 'mean_score_time': array([0.03372664, 0.04389415, 0.0301218 , 0.04999676, 0.02499857,\n",
       "        0.03692403]),\n",
       " 'std_score_time': array([0.01193409, 0.0181215 , 0.01726296, 0.0318669 , 0.00765368,\n",
       "        0.01505032]),\n",
       " 'param_learning_rate': masked_array(data=[0.1, 0.1, 0.1, 0.01, 0.01, 0.01],\n",
       "              mask=[False, False, False, False, False, False],\n",
       "        fill_value='?',\n",
       "             dtype=object),\n",
       " 'param_max_depth': masked_array(data=[4, 4, 4, 4, 4, 4],\n",
       "              mask=[False, False, False, False, False, False],\n",
       "        fill_value='?',\n",
       "             dtype=object),\n",
       " 'param_n_estimators': masked_array(data=[50, 100, 150, 50, 100, 150],\n",
       "              mask=[False, False, False, False, False, False],\n",
       "        fill_value='?',\n",
       "             dtype=object),\n",
       " 'params': [{'learning_rate': 0.1, 'max_depth': 4, 'n_estimators': 50},\n",
       "  {'learning_rate': 0.1, 'max_depth': 4, 'n_estimators': 100},\n",
       "  {'learning_rate': 0.1, 'max_depth': 4, 'n_estimators': 150},\n",
       "  {'learning_rate': 0.01, 'max_depth': 4, 'n_estimators': 50},\n",
       "  {'learning_rate': 0.01, 'max_depth': 4, 'n_estimators': 100},\n",
       "  {'learning_rate': 0.01, 'max_depth': 4, 'n_estimators': 150}],\n",
       " 'split0_test_score': array([0.8779352 , 0.87355376, 0.86946579, 0.55607733, 0.76579276,\n",
       "        0.84047588]),\n",
       " 'split1_test_score': array([0.81995463, 0.81326112, 0.80520337, 0.49136389, 0.69012352,\n",
       "        0.76749047]),\n",
       " 'split2_test_score': array([0.83926862, 0.83673444, 0.83600262, 0.5361016 , 0.73076623,\n",
       "        0.80195725]),\n",
       " 'split3_test_score': array([0.84932876, 0.84319171, 0.83682692, 0.54385351, 0.74565365,\n",
       "        0.8162229 ]),\n",
       " 'split4_test_score': array([0.80415509, 0.79956142, 0.79524518, 0.49334705, 0.67992766,\n",
       "        0.7534112 ]),\n",
       " 'mean_test_score': array([0.83812846, 0.83326049, 0.82854878, 0.52414868, 0.72245276,\n",
       "        0.79591154]),\n",
       " 'std_test_score': array([0.02528162, 0.02557283, 0.02627709, 0.02673639, 0.03267817,\n",
       "        0.03177772]),\n",
       " 'rank_test_score': array([1, 2, 3, 6, 5, 4])}"
      ]
     },
     "execution_count": 12,
     "metadata": {},
     "output_type": "execute_result"
    }
   ],
   "source": [
    "results=grid.cv_results_\n",
    "results"
   ]
  },
  {
   "cell_type": "code",
   "execution_count": 16,
   "id": "a9ba3185",
   "metadata": {},
   "outputs": [],
   "source": [
    "ypred=grid.predict(x_test)"
   ]
  },
  {
   "cell_type": "code",
   "execution_count": 17,
   "id": "0f81a204",
   "metadata": {},
   "outputs": [],
   "source": [
    "from sklearn.metrics import r2_score\n",
    "rscore=r2_score(y_test,ypred)"
   ]
  },
  {
   "cell_type": "code",
   "execution_count": 18,
   "id": "b5f670da",
   "metadata": {},
   "outputs": [
    {
     "name": "stdout",
     "output_type": "stream",
     "text": [
      "The Rscore value with best Tuning Parameter is {'learning_rate': 0.1, 'max_depth': 4, 'n_estimators': 50} : 0.8913677409517082\n"
     ]
    }
   ],
   "source": [
    "print(\"The Rscore value with best Tuning Parameter is {} :\".format(grid.best_params_),rscore)"
   ]
  },
  {
   "cell_type": "code",
   "execution_count": 19,
   "id": "6413fd4c",
   "metadata": {},
   "outputs": [],
   "source": [
    "results=grid.cv_results_"
   ]
  },
  {
   "cell_type": "code",
   "execution_count": 20,
   "id": "9fb4d464",
   "metadata": {},
   "outputs": [
    {
     "data": {
      "text/html": [
       "<div>\n",
       "<style scoped>\n",
       "    .dataframe tbody tr th:only-of-type {\n",
       "        vertical-align: middle;\n",
       "    }\n",
       "\n",
       "    .dataframe tbody tr th {\n",
       "        vertical-align: top;\n",
       "    }\n",
       "\n",
       "    .dataframe thead th {\n",
       "        text-align: right;\n",
       "    }\n",
       "</style>\n",
       "<table border=\"1\" class=\"dataframe\">\n",
       "  <thead>\n",
       "    <tr style=\"text-align: right;\">\n",
       "      <th></th>\n",
       "      <th>mean_fit_time</th>\n",
       "      <th>std_fit_time</th>\n",
       "      <th>mean_score_time</th>\n",
       "      <th>std_score_time</th>\n",
       "      <th>param_learning_rate</th>\n",
       "      <th>param_max_depth</th>\n",
       "      <th>param_n_estimators</th>\n",
       "      <th>params</th>\n",
       "      <th>split0_test_score</th>\n",
       "      <th>split1_test_score</th>\n",
       "      <th>split2_test_score</th>\n",
       "      <th>split3_test_score</th>\n",
       "      <th>split4_test_score</th>\n",
       "      <th>mean_test_score</th>\n",
       "      <th>std_test_score</th>\n",
       "      <th>rank_test_score</th>\n",
       "    </tr>\n",
       "  </thead>\n",
       "  <tbody>\n",
       "    <tr>\n",
       "      <th>0</th>\n",
       "      <td>26.854703</td>\n",
       "      <td>0.961879</td>\n",
       "      <td>0.033727</td>\n",
       "      <td>0.011934</td>\n",
       "      <td>0.1</td>\n",
       "      <td>4</td>\n",
       "      <td>50</td>\n",
       "      <td>{'learning_rate': 0.1, 'max_depth': 4, 'n_esti...</td>\n",
       "      <td>0.877935</td>\n",
       "      <td>0.819955</td>\n",
       "      <td>0.839269</td>\n",
       "      <td>0.849329</td>\n",
       "      <td>0.804155</td>\n",
       "      <td>0.838128</td>\n",
       "      <td>0.025282</td>\n",
       "      <td>1</td>\n",
       "    </tr>\n",
       "    <tr>\n",
       "      <th>1</th>\n",
       "      <td>61.157755</td>\n",
       "      <td>3.976689</td>\n",
       "      <td>0.043894</td>\n",
       "      <td>0.018122</td>\n",
       "      <td>0.1</td>\n",
       "      <td>4</td>\n",
       "      <td>100</td>\n",
       "      <td>{'learning_rate': 0.1, 'max_depth': 4, 'n_esti...</td>\n",
       "      <td>0.873554</td>\n",
       "      <td>0.813261</td>\n",
       "      <td>0.836734</td>\n",
       "      <td>0.843192</td>\n",
       "      <td>0.799561</td>\n",
       "      <td>0.833260</td>\n",
       "      <td>0.025573</td>\n",
       "      <td>2</td>\n",
       "    </tr>\n",
       "    <tr>\n",
       "      <th>2</th>\n",
       "      <td>86.471024</td>\n",
       "      <td>3.393998</td>\n",
       "      <td>0.030122</td>\n",
       "      <td>0.017263</td>\n",
       "      <td>0.1</td>\n",
       "      <td>4</td>\n",
       "      <td>150</td>\n",
       "      <td>{'learning_rate': 0.1, 'max_depth': 4, 'n_esti...</td>\n",
       "      <td>0.869466</td>\n",
       "      <td>0.805203</td>\n",
       "      <td>0.836003</td>\n",
       "      <td>0.836827</td>\n",
       "      <td>0.795245</td>\n",
       "      <td>0.828549</td>\n",
       "      <td>0.026277</td>\n",
       "      <td>3</td>\n",
       "    </tr>\n",
       "    <tr>\n",
       "      <th>3</th>\n",
       "      <td>39.932731</td>\n",
       "      <td>0.260243</td>\n",
       "      <td>0.049997</td>\n",
       "      <td>0.031867</td>\n",
       "      <td>0.01</td>\n",
       "      <td>4</td>\n",
       "      <td>50</td>\n",
       "      <td>{'learning_rate': 0.01, 'max_depth': 4, 'n_est...</td>\n",
       "      <td>0.556077</td>\n",
       "      <td>0.491364</td>\n",
       "      <td>0.536102</td>\n",
       "      <td>0.543854</td>\n",
       "      <td>0.493347</td>\n",
       "      <td>0.524149</td>\n",
       "      <td>0.026736</td>\n",
       "      <td>6</td>\n",
       "    </tr>\n",
       "    <tr>\n",
       "      <th>4</th>\n",
       "      <td>74.820939</td>\n",
       "      <td>8.022067</td>\n",
       "      <td>0.024999</td>\n",
       "      <td>0.007654</td>\n",
       "      <td>0.01</td>\n",
       "      <td>4</td>\n",
       "      <td>100</td>\n",
       "      <td>{'learning_rate': 0.01, 'max_depth': 4, 'n_est...</td>\n",
       "      <td>0.765793</td>\n",
       "      <td>0.690124</td>\n",
       "      <td>0.730766</td>\n",
       "      <td>0.745654</td>\n",
       "      <td>0.679928</td>\n",
       "      <td>0.722453</td>\n",
       "      <td>0.032678</td>\n",
       "      <td>5</td>\n",
       "    </tr>\n",
       "    <tr>\n",
       "      <th>5</th>\n",
       "      <td>99.730114</td>\n",
       "      <td>7.711867</td>\n",
       "      <td>0.036924</td>\n",
       "      <td>0.015050</td>\n",
       "      <td>0.01</td>\n",
       "      <td>4</td>\n",
       "      <td>150</td>\n",
       "      <td>{'learning_rate': 0.01, 'max_depth': 4, 'n_est...</td>\n",
       "      <td>0.840476</td>\n",
       "      <td>0.767490</td>\n",
       "      <td>0.801957</td>\n",
       "      <td>0.816223</td>\n",
       "      <td>0.753411</td>\n",
       "      <td>0.795912</td>\n",
       "      <td>0.031778</td>\n",
       "      <td>4</td>\n",
       "    </tr>\n",
       "  </tbody>\n",
       "</table>\n",
       "</div>"
      ],
      "text/plain": [
       "   mean_fit_time  std_fit_time  mean_score_time  std_score_time  \\\n",
       "0      26.854703      0.961879         0.033727        0.011934   \n",
       "1      61.157755      3.976689         0.043894        0.018122   \n",
       "2      86.471024      3.393998         0.030122        0.017263   \n",
       "3      39.932731      0.260243         0.049997        0.031867   \n",
       "4      74.820939      8.022067         0.024999        0.007654   \n",
       "5      99.730114      7.711867         0.036924        0.015050   \n",
       "\n",
       "  param_learning_rate param_max_depth param_n_estimators  \\\n",
       "0                 0.1               4                 50   \n",
       "1                 0.1               4                100   \n",
       "2                 0.1               4                150   \n",
       "3                0.01               4                 50   \n",
       "4                0.01               4                100   \n",
       "5                0.01               4                150   \n",
       "\n",
       "                                              params  split0_test_score  \\\n",
       "0  {'learning_rate': 0.1, 'max_depth': 4, 'n_esti...           0.877935   \n",
       "1  {'learning_rate': 0.1, 'max_depth': 4, 'n_esti...           0.873554   \n",
       "2  {'learning_rate': 0.1, 'max_depth': 4, 'n_esti...           0.869466   \n",
       "3  {'learning_rate': 0.01, 'max_depth': 4, 'n_est...           0.556077   \n",
       "4  {'learning_rate': 0.01, 'max_depth': 4, 'n_est...           0.765793   \n",
       "5  {'learning_rate': 0.01, 'max_depth': 4, 'n_est...           0.840476   \n",
       "\n",
       "   split1_test_score  split2_test_score  split3_test_score  split4_test_score  \\\n",
       "0           0.819955           0.839269           0.849329           0.804155   \n",
       "1           0.813261           0.836734           0.843192           0.799561   \n",
       "2           0.805203           0.836003           0.836827           0.795245   \n",
       "3           0.491364           0.536102           0.543854           0.493347   \n",
       "4           0.690124           0.730766           0.745654           0.679928   \n",
       "5           0.767490           0.801957           0.816223           0.753411   \n",
       "\n",
       "   mean_test_score  std_test_score  rank_test_score  \n",
       "0         0.838128        0.025282                1  \n",
       "1         0.833260        0.025573                2  \n",
       "2         0.828549        0.026277                3  \n",
       "3         0.524149        0.026736                6  \n",
       "4         0.722453        0.032678                5  \n",
       "5         0.795912        0.031778                4  "
      ]
     },
     "execution_count": 20,
     "metadata": {},
     "output_type": "execute_result"
    }
   ],
   "source": [
    "table=pd.DataFrame.from_dict(results)\n",
    "table"
   ]
  },
  {
   "cell_type": "code",
   "execution_count": 21,
   "id": "c283a9b3",
   "metadata": {},
   "outputs": [
    {
     "name": "stdout",
     "output_type": "stream",
     "text": [
      "Age : 33\n",
      "BMI : 30\n",
      "Children: 2\n",
      "Sex Male 0 or 1 : 1\n",
      "Smoker yes 0 or 1 : 1\n"
     ]
    }
   ],
   "source": [
    "age_input=float(input(\"Age : \"))\n",
    "bmi_input=float(input(\"BMI : \"))\n",
    "child_input=int(input(\"Children: \"))\n",
    "sex_input=int(input(\"Sex Male 0 or 1 : \"))\n",
    "smoker_s_input=int(input(\"Smoker yes 0 or 1 : \"))"
   ]
  },
  {
   "cell_type": "code",
   "execution_count": 25,
   "id": "1fcbb1a8",
   "metadata": {},
   "outputs": [],
   "source": [
    "future_predict=grid.predict([[age_input,bmi_input,child_input,sex_input,smoker_s_input]])"
   ]
  },
  {
   "cell_type": "code",
   "execution_count": 26,
   "id": "8e17a9b4",
   "metadata": {},
   "outputs": [
    {
     "name": "stdout",
     "output_type": "stream",
     "text": [
      "The Future Prediction is[35827.83301431]: \n"
     ]
    }
   ],
   "source": [
    "print(\"The Future Prediction is{}: \".format(future_predict))"
   ]
  },
  {
   "cell_type": "code",
   "execution_count": null,
   "id": "e68492e3",
   "metadata": {},
   "outputs": [],
   "source": []
  }
 ],
 "metadata": {
  "kernelspec": {
   "display_name": "Python 3 (ipykernel)",
   "language": "python",
   "name": "python3"
  },
  "language_info": {
   "codemirror_mode": {
    "name": "ipython",
    "version": 3
   },
   "file_extension": ".py",
   "mimetype": "text/x-python",
   "name": "python",
   "nbconvert_exporter": "python",
   "pygments_lexer": "ipython3",
   "version": "3.9.13"
  }
 },
 "nbformat": 4,
 "nbformat_minor": 5
}
